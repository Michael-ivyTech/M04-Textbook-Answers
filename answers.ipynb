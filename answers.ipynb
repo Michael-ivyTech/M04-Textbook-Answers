{
 "cells": [
  {
   "cell_type": "code",
   "execution_count": 1,
   "id": "fa56475f-5d0d-48b1-a3ac-e4a991ba7156",
   "metadata": {},
   "outputs": [
    {
     "name": "stdout",
     "output_type": "stream",
     "text": [
      "Open 9-5 daily\n"
     ]
    }
   ],
   "source": [
    "#11.1\n",
    "import zoo\n",
    "\n",
    "zoo.hours()"
   ]
  },
  {
   "cell_type": "code",
   "execution_count": null,
   "id": "30cc7845-eaae-4b6d-a6f9-ddd6c5467703",
   "metadata": {},
   "outputs": [],
   "source": [
    "#11.2"
   ]
  },
  {
   "cell_type": "code",
   "execution_count": null,
   "id": "b48b0eae-8d4b-4aaa-aac9-591dcc35fd94",
   "metadata": {},
   "outputs": [],
   "source": [
    "#16.8"
   ]
  }
 ],
 "metadata": {
  "kernelspec": {
   "display_name": "base",
   "language": "python",
   "name": "python3"
  },
  "language_info": {
   "codemirror_mode": {
    "name": "ipython",
    "version": 3
   },
   "file_extension": ".py",
   "mimetype": "text/x-python",
   "name": "python",
   "nbconvert_exporter": "python",
   "pygments_lexer": "ipython3",
   "version": "3.13.5"
  }
 },
 "nbformat": 4,
 "nbformat_minor": 5
}
